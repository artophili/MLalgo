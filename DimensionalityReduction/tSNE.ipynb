{
 "cells": [
  {
   "cell_type": "markdown",
   "metadata": {},
   "source": [
    "t-Distributed Stochastic Neighbor Embedding (t-SNE)\n",
    "t-SNE is a dimensionality reduction technique primarily used for visualizing high-dimensional data in 2D or 3D space. Unlike PCA, t-SNE is non-linear and focuses on preserving the local structure of data, making it highly effective for visualizing clusters\n",
    "\n",
    "It is best suited for small to medium sized datasets"
   ]
  },
  {
   "cell_type": "code",
   "execution_count": 1,
   "metadata": {},
   "outputs": [],
   "source": [
    "from sklearn.manifold import TSNE\n",
    "import numpy as np"
   ]
  },
  {
   "cell_type": "code",
   "execution_count": 2,
   "metadata": {},
   "outputs": [],
   "source": [
    "X = np.array([[1,2,3],[2,3,4],[3,4,5],[5,6,7],[5,7,8],[8,9,10],[9,10,11]])"
   ]
  },
  {
   "cell_type": "code",
   "execution_count": 6,
   "metadata": {},
   "outputs": [],
   "source": [
    "tsne = TSNE(n_components=2,perplexity=5, random_state=42) #Reducing from 3D to 2D for visualization\n",
    "#Perplexity is a parameter that controls the balance between\n",
    "#local and global aspects of the data in the embedding\n",
    "#It should be within the range of 5 to 50"
   ]
  },
  {
   "cell_type": "code",
   "execution_count": 7,
   "metadata": {},
   "outputs": [],
   "source": [
    "X_reduced = tsne.fit_transform(X)"
   ]
  },
  {
   "cell_type": "code",
   "execution_count": 8,
   "metadata": {},
   "outputs": [
    {
     "name": "stdout",
     "output_type": "stream",
     "text": [
      "Reduced data : [[-126.96386   163.58688 ]\n",
      " [-233.22713    24.97301 ]\n",
      " [  31.34061  -212.61998 ]\n",
      " [  10.688138  -20.809622]\n",
      " [-105.164116 -118.7559  ]\n",
      " [ 182.34952    70.998116]\n",
      " [ 257.6527    -79.94109 ]]\n"
     ]
    }
   ],
   "source": [
    "print(f'Reduced data : {X_reduced}')"
   ]
  }
 ],
 "metadata": {
  "kernelspec": {
   "display_name": "practvenv",
   "language": "python",
   "name": "python3"
  },
  "language_info": {
   "codemirror_mode": {
    "name": "ipython",
    "version": 3
   },
   "file_extension": ".py",
   "mimetype": "text/x-python",
   "name": "python",
   "nbconvert_exporter": "python",
   "pygments_lexer": "ipython3",
   "version": "3.12.8"
  }
 },
 "nbformat": 4,
 "nbformat_minor": 2
}
